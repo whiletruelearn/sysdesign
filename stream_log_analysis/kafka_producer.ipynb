{
 "cells": [
  {
   "cell_type": "code",
   "execution_count": 1,
   "metadata": {},
   "outputs": [],
   "source": [
    "from kafka import KafkaProducer"
   ]
  },
  {
   "cell_type": "code",
   "execution_count": 5,
   "metadata": {},
   "outputs": [],
   "source": [
    "producer = KafkaProducer(bootstrap_servers=['localhost:9092'])\n",
    "\n",
    "res = producer.send('test', b'Hello world again')"
   ]
  },
  {
   "cell_type": "code",
   "execution_count": 6,
   "metadata": {},
   "outputs": [],
   "source": [
    "obj = b'64.69.144.74 - - [10/Sep/2022:20:58:34 +0530] \"POST /wp-content HTTP/1.0\" 200 4965 \"http://smith-anderson.info/wp-content/tag/explore/search/\" \"Mozilla/5.0 (Macintosh; PPC Mac OS X 10_8_8; rv:1.9.3.20) Gecko/2016-06-27 21:06:07 Firefox/3.6.20\"'"
   ]
  },
  {
   "cell_type": "code",
   "execution_count": 8,
   "metadata": {},
   "outputs": [],
   "source": [
    "obj_str = obj.decode(\"utf8\")"
   ]
  },
  {
   "cell_type": "code",
   "execution_count": 21,
   "metadata": {},
   "outputs": [
    {
     "data": {
      "text/plain": [
       "'POST'"
      ]
     },
     "execution_count": 21,
     "metadata": {},
     "output_type": "execute_result"
    }
   ],
   "source": [
    "obj_str.split(\"\\\"\")[1].split(\" \")[0]"
   ]
  },
  {
   "cell_type": "code",
   "execution_count": 18,
   "metadata": {},
   "outputs": [
    {
     "data": {
      "text/plain": [
       "'200'"
      ]
     },
     "execution_count": 18,
     "metadata": {},
     "output_type": "execute_result"
    }
   ],
   "source": []
  },
  {
   "cell_type": "code",
   "execution_count": 10,
   "metadata": {},
   "outputs": [
    {
     "data": {
      "text/plain": [
       "'64.69.144.74'"
      ]
     },
     "execution_count": 10,
     "metadata": {},
     "output_type": "execute_result"
    }
   ],
   "source": []
  },
  {
   "cell_type": "code",
   "execution_count": null,
   "metadata": {},
   "outputs": [],
   "source": [
    "import re\n",
    "def parse(obj):\n",
    "    obj_str = obj.decode(\"utf8\")\n",
    "    ip_address = obj_str.split(\" - -\")[0].strip()\n",
    "    url = re.search(\"(?P<url>https?://[^\\s]+)\", obj_str).group(\"url\")\n",
    "    http_code = obj_str.split(\"\\\"\")[2].split(\" \")[1]\n",
    "    http_method = obj_str.split(\"\\\"\")[1].split(\" \")[0].strip()\n",
    "    return {\n",
    "        \"ip_address\" : ip_address,\n",
    "        \"url\" : url,\n",
    "        \"http_code\" : http_code,\n",
    "        \"http_method\" : http_method\n",
    "    }"
   ]
  }
 ],
 "metadata": {
  "kernelspec": {
   "display_name": "Python 3.8.13 ('py38')",
   "language": "python",
   "name": "python3"
  },
  "language_info": {
   "codemirror_mode": {
    "name": "ipython",
    "version": 3
   },
   "file_extension": ".py",
   "mimetype": "text/x-python",
   "name": "python",
   "nbconvert_exporter": "python",
   "pygments_lexer": "ipython3",
   "version": "3.8.13"
  },
  "orig_nbformat": 4,
  "vscode": {
   "interpreter": {
    "hash": "11758ba52984227a563bbca635b7e5bb9ebb0560c484df38d01953000af11a69"
   }
  }
 },
 "nbformat": 4,
 "nbformat_minor": 2
}
